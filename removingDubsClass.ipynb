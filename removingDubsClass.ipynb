{
 "cells": [
  {
   "cell_type": "code",
   "execution_count": 13,
   "metadata": {},
   "outputs": [
    {
     "name": "stdout",
     "output_type": "stream",
     "text": [
      "[1, 2, 3, 4, 5, 6]\n"
     ]
    }
   ],
   "source": [
    "my_list = [1,1,2,3,2,2,4,5,6,2,1]\n",
    "print(list(set(my_list)))"
   ]
  },
  {
   "cell_type": "code",
   "execution_count": 3,
   "metadata": {},
   "outputs": [],
   "source": [
    "# The list is given to the set() built-in function. Later the final list is \n",
    "# displayed using the list() built-in function, as shown in the example below."
   ]
  },
  {
   "cell_type": "code",
   "execution_count": 7,
   "metadata": {},
   "outputs": [
    {
     "name": "stdout",
     "output_type": "stream",
     "text": [
      "List Before  [1, 2, 3, 1, 2, 4, 5, 4, 6, 2]\n",
      "List After  [1, 2, 3, 4, 5, 6]\n"
     ]
    }
   ],
   "source": [
    "my_list = [1, 2, 3, 1, 2, 4, 5, 4 ,6, 2]\n",
    "print(\"List Before \", my_list)\n",
    "temp_list = []\n",
    "for i in my_list:\n",
    "    if i not in temp_list:\n",
    "        temp_list.append(i)\n",
    "my_list = temp_list\n",
    "print(\"List After \",list(my_list))\n"
   ]
  },
  {
   "cell_type": "code",
   "execution_count": 9,
   "metadata": {},
   "outputs": [
    {
     "name": "stdout",
     "output_type": "stream",
     "text": [
      "My word before  doogggieee\n",
      "My word after dogie\n"
     ]
    }
   ],
   "source": [
    "myWord = \"doogggieee\"\n",
    "print(\"My word before \", myWord) \n",
    "tempWord = ''\n",
    "for i in myWord:\n",
    "    if i not in tempWord:\n",
    "        tempWord = tempWord + i\n",
    "      #  print(i, \" is unique\") # Testing\n",
    "   # else:\n",
    "      #  print(i, \" is a double\") # Testing\n",
    "myWord = tempWord\n",
    "print(\"My word after\", myWord)"
   ]
  },
  {
   "cell_type": "code",
   "execution_count": 10,
   "metadata": {},
   "outputs": [
    {
     "name": "stdout",
     "output_type": "stream",
     "text": [
      "List before [1, 2, 2, 3, 4, 5, 5, 5, 6]\n",
      "[1, 2, 3, 4, 5, 6]\n"
     ]
    }
   ],
   "source": [
    "class Solution:\n",
    "    def __init__(self, listOfNumbers):\n",
    "        self.temp_list = []\n",
    "        self.my_list = listOfNumbers\n",
    "    def removeDuplicates(self):\n",
    "        for i in self.my_list:\n",
    "            if i not in self.temp_list:\n",
    "                self.temp_list.append(i)\n",
    "              #  print(i,\"is unique\")   # For testing\n",
    "           # else:\n",
    "              #  print(i, \"is a double\")  # For testing\n",
    "        self.my_list = self.temp_list\n",
    "    def printList(self):\n",
    "        print(self.my_list)\n",
    "\n",
    "inputList = [1,2,2,3,4,5,5,5,6] # Input array\n",
    "print(\"List before\", inputList)\n",
    "expectedNums = [1,2,3,4,5,6] # The expected answer with correct length\n",
    "nums = Solution(inputList)\n",
    "nums.removeDuplicates()\n",
    "nums.printList()"
   ]
  },
  {
   "cell_type": "code",
   "execution_count": null,
   "metadata": {},
   "outputs": [],
   "source": []
  }
 ],
 "metadata": {
  "kernelspec": {
   "display_name": "Python 3",
   "language": "python",
   "name": "python3"
  },
  "language_info": {
   "codemirror_mode": {
    "name": "ipython",
    "version": 3
   },
   "file_extension": ".py",
   "mimetype": "text/x-python",
   "name": "python",
   "nbconvert_exporter": "python",
   "pygments_lexer": "ipython3",
   "version": "3.8.5"
  }
 },
 "nbformat": 4,
 "nbformat_minor": 4
}
